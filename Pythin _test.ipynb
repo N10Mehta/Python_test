{
 "cells": [
  {
   "cell_type": "code",
   "execution_count": 19,
   "id": "b06eb299",
   "metadata": {},
   "outputs": [
    {
     "name": "stdout",
     "output_type": "stream",
     "text": [
      "2\n"
     ]
    }
   ],
   "source": [
    "#1\n",
    "main_str = \"abcdcdc\"\n",
    "sub_str = \"cdc\"\n",
    "\n",
    "count = 0\n",
    "for i in range(len(main_str) - len(sub_str) + 1):\n",
    "    if main_str[i:i+len(sub_str)] == sub_str:\n",
    "        count += 1\n",
    "\n",
    "print(count)"
   ]
  },
  {
   "cell_type": "code",
   "execution_count": 20,
   "id": "5801f413",
   "metadata": {},
   "outputs": [
    {
     "name": "stdout",
     "output_type": "stream",
     "text": [
      "[2, 24, 720, 40320]\n"
     ]
    }
   ],
   "source": [
    "#2\n",
    "\n",
    "import math\n",
    "\n",
    "numbers = [2, 4, 6, 8]\n",
    "factorials = []\n",
    "\n",
    "for num in numbers:\n",
    "  factorials.append(math.factorial(num))\n",
    "\n",
    "print(factorials) \n"
   ]
  },
  {
   "cell_type": "code",
   "execution_count": 21,
   "id": "b2ed3f74",
   "metadata": {},
   "outputs": [
    {
     "name": "stdout",
     "output_type": "stream",
     "text": [
      "Generated password: erWyH2F(*Mx$\n",
      "Do you like this password? (yes/no): \n",
      "Generated password: #pu*mZg2XQGN\n",
      "Do you like this password? (yes/no): yes\n"
     ]
    }
   ],
   "source": [
    " #3\n",
    "    \n",
    "\n",
    "import random\n",
    "\n",
    "def generate_password(length=12):\n",
    "  characters = \"abcdefghijklmnopqrstuvwxyzABCDEFGHIJKLMNOPQRSTUVWXYZ0123456789!@#$%^&*()\"\n",
    "  password = \"\".join(random.sample(characters, length))\n",
    "  return password\n",
    "\n",
    "while True:\n",
    "  password = generate_password()\n",
    "  print(\"Generated password:\", password)\n",
    "  if input(\"Do you like this password? (yes/no): \").lower() == \"yes\":\n",
    "    break\n"
   ]
  },
  {
   "cell_type": "code",
   "execution_count": 22,
   "id": "4332e25a",
   "metadata": {},
   "outputs": [
    {
     "name": "stdout",
     "output_type": "stream",
     "text": [
      "Vowels found in the string: ['i', 'i', 'a', 'e', 'i']\n"
     ]
    }
   ],
   "source": [
    "#4\n",
    "\n",
    "def check_vowels(string):\n",
    "  vowels = \"aeiouAEIOU\"\n",
    "  vowels_found = []\n",
    "  for char in string:\n",
    "    if char in vowels:\n",
    "      vowels_found.append(char)\n",
    "  return vowels_found\n",
    "\n",
    "input_string = \"This is a test string.\"\n",
    "vowels_in_string = check_vowels(input_string)\n",
    "print(\"Vowels found in the string:\", vowels_in_string)\n"
   ]
  },
  {
   "cell_type": "code",
   "execution_count": 23,
   "id": "737434ba",
   "metadata": {},
   "outputs": [
    {
     "name": "stdout",
     "output_type": "stream",
     "text": [
      "Forward order:\n",
      "T h i s   i s   a   t e s t   s t r i n g . \n",
      "\n",
      "Reverse order:\n",
      ". g n i r t s   t s e t   a   s i   s i h T "
     ]
    }
   ],
   "source": [
    "#5\n",
    "test_string = \"This is a test string.\"\n",
    "\n",
    "# Forward order\n",
    "index = 0\n",
    "print(\"Forward order:\")\n",
    "while index < len(test_string):\n",
    "  print(test_string[index], end=\" \")\n",
    "  index += 1\n",
    "print(\"\\n\") \n",
    "# Reverse order\n",
    "index = len(test_string) - 1\n",
    "print(\"Reverse order:\")\n",
    "while index >= 0:\n",
    "  print(test_string[index], end=\" \")\n",
    "  index -= 1\n"
   ]
  },
  {
   "cell_type": "code",
   "execution_count": 24,
   "id": "74218204",
   "metadata": {},
   "outputs": [
    {
     "name": "stdout",
     "output_type": "stream",
     "text": [
      "The substring exists in the main string.\n"
     ]
    }
   ],
   "source": [
    "#6\n",
    " \n",
    "\n",
    "def is_substring(main_string, sub_string):\n",
    "  if sub_string in main_string:\n",
    "    return True\n",
    "  else:\n",
    "    return False\n",
    "\n",
    "main_string = \"This is the main string\"\n",
    "sub_string = \"main\"\n",
    "\n",
    "if is_substring(main_string, sub_string):\n",
    "  print(\"The substring exists in the main string.\")\n",
    "else:\n",
    "  print(\"The substring does not exist in the main string.\")\n"
   ]
  },
  {
   "cell_type": "code",
   "execution_count": 25,
   "id": "bca44b02",
   "metadata": {},
   "outputs": [
    {
     "name": "stdout",
     "output_type": "stream",
     "text": [
      "The first occurrence of 'main' is at index 12.\n"
     ]
    }
   ],
   "source": [
    "#7\n",
    "  \n",
    "def find_first_occurrence(main_string, sub_string):\n",
    "  index = main_string.find(sub_string)\n",
    "  if index != -1:\n",
    "    return index\n",
    "  else:\n",
    "    return None\n",
    "\n",
    "main_string = \"This is the main string\"\n",
    "sub_string = \"main\"\n",
    "\n",
    "index = find_first_occurrence(main_string, sub_string)\n",
    "\n",
    "if index is not None:\n",
    "  print(f\"The first occurrence of '{sub_string}' is at index {index}.\")\n",
    "else:\n",
    "  print(f\"'{sub_string}' is not found in the main string.\")\n"
   ]
  },
  {
   "cell_type": "code",
   "execution_count": 26,
   "id": "121833a3",
   "metadata": {},
   "outputs": [
    {
     "name": "stdout",
     "output_type": "stream",
     "text": [
      "Enter a string: this is my test\n",
      "Enter sub_string: python\n",
      "Enter position no: 11\n",
      "Result: this is my pythontest\n"
     ]
    }
   ],
   "source": [
    "#8\n",
    "\n",
    "\n",
    "def insert_substring(main_string, sub_string, position):\n",
    "  result_string = main_string[:position] + sub_string + main_string[position:]\n",
    "  return result_string\n",
    "\n",
    "main_string = input(\"Enter a string: \")\n",
    "sub_string = input(\"Enter sub_string: \")\n",
    "position = int(input(\"Enter position no: \"))\n",
    "\n",
    "result = insert_substring(main_string, sub_string, position)\n",
    "print(\"Result:\", result)\n"
   ]
  },
  {
   "cell_type": "code",
   "execution_count": 27,
   "id": "b715c192",
   "metadata": {},
   "outputs": [
    {
     "name": "stdout",
     "output_type": "stream",
     "text": [
      "Enter number10\n",
      "0\n",
      "1\n",
      "1\n",
      "2\n",
      "3\n",
      "5\n",
      "8\n",
      "13\n",
      "21\n",
      "34\n"
     ]
    }
   ],
   "source": [
    "#Generate an infinite fibonacci series by using generator yield.\n",
    "n=int(input(\"Enter number\"))\n",
    "def fibonacci():\n",
    "  a, b = 0, 1\n",
    "  while True:\n",
    "    yield a\n",
    "    a, b = b, a + b\n",
    "\n",
    "fib_gen = fibonacci()\n",
    "\n",
    "for _ in range(n):\n",
    "  print(next(fib_gen))\n"
   ]
  },
  {
   "cell_type": "code",
   "execution_count": null,
   "id": "ca912388",
   "metadata": {},
   "outputs": [],
   "source": []
  }
 ],
 "metadata": {
  "kernelspec": {
   "display_name": "Python 3 (ipykernel)",
   "language": "python",
   "name": "python3"
  },
  "language_info": {
   "codemirror_mode": {
    "name": "ipython",
    "version": 3
   },
   "file_extension": ".py",
   "mimetype": "text/x-python",
   "name": "python",
   "nbconvert_exporter": "python",
   "pygments_lexer": "ipython3",
   "version": "3.9.7"
  }
 },
 "nbformat": 4,
 "nbformat_minor": 5
}
